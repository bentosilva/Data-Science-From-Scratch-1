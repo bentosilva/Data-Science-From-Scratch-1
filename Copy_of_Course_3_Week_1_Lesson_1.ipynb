{
  "nbformat": 4,
  "nbformat_minor": 0,
  "metadata": {
    "colab": {
      "name": "Copy of Course 3 - Week 1 - Lesson 1.ipynb",
      "provenance": [],
      "collapsed_sections": [],
      "include_colab_link": true
    },
    "kernelspec": {
      "name": "python3",
      "display_name": "Python 3"
    }
  },
  "cells": [
    {
      "cell_type": "markdown",
      "metadata": {
        "id": "view-in-github",
        "colab_type": "text"
      },
      "source": [
        "<a href=\"https://colab.research.google.com/github/bentosilva/Data-Science-From-Scratch-1/blob/master/Copy_of_Course_3_Week_1_Lesson_1.ipynb\" target=\"_parent\"><img src=\"https://colab.research.google.com/assets/colab-badge.svg\" alt=\"Open In Colab\"/></a>"
      ]
    },
    {
      "cell_type": "code",
      "metadata": {
        "id": "6Tlp8uFCu7tO",
        "colab_type": "code",
        "colab": {}
      },
      "source": [
        ""
      ],
      "execution_count": 0,
      "outputs": []
    },
    {
      "cell_type": "code",
      "metadata": {
        "id": "zaCMcjMQifQc",
        "colab_type": "code",
        "outputId": "a5088021-36a1-423b-99f2-a18fd3b3a10d",
        "colab": {
          "base_uri": "https://localhost:8080/",
          "height": 973
        }
      },
      "source": [
        "\n",
        "import nltk\n",
        "nltk.download(\"punkt\")\n",
        "from nltk.tokenize import sent_tokenize\n",
        "from tensorflow.keras.preprocessing.text import Tokenizer\n",
        "import pandas as pd\n",
        "\n",
        "sentences = []\n",
        "s = \"Ao escassear nos leitos e nas margens dos córregos {veios e tabuleiros) e nas meias encostas dos morros (grupiaras)^ sucederam-se os trabalhos de ataques direto às rochas matrizes. Desaparecidos os afloramentos superficiais dos vieiros contidos em rochas friáveis semidecompos- tas e sem consistência {podres)^ seguiram-se, para atingi-los em profundidade, os penosos serviços subterrâneos, cada vez mais profundos, de escavações e galerias de precárias condições. Foi quando as rochas extremamente compactas - quartzos, pirites, itabiritos e outras - se antepuseram, como invencível obstáculo, ao avanço das técnicas rudimentares e dos processos rotineiros dos inexperientes e incapacitados mineradores da Colônia desprovidos de recursos. Somente as aluviões puderam ser por eles economicamente aproveitadas. Era onde o ouro já se encontrava liberado sem a prévia e necessária desintegração das rochas, exigindo, apenas, separação de outros minerais pela ação da gravidade ou, melhor, pela concentração sob o fluxo da água.\"\n",
        "s1 = \"Oi, tio, tudo bom por aí? Eu e alguns colegas da Geografia fizemos um artigo que devemos enviar para uma revista internacional. Já fizemos as revisões em inglês, mas ainda estamos inseguros sobre o texto estar ok. Será que você poderia dar uma olhada? Nosso prazo é 10/03. Se não der, não tem problema. Bjs,\"\n",
        "p = s.lower()\n",
        "#p = \"Colab is just like a Jupyter notebook. Therefore, we can use the ! operator here to install any package in Colab. What ! actually does is, it tells the notebook cell that this line is not a Python code, its a command line script. So, to run any command line script in Colab, just add a ! preceding the line.\"\n",
        "\n",
        "#p = \"Good morning Dr. Adams. The patient is waiting for you in room number 3.\"\n",
        "sentences = sent_tokenize(p)\n",
        "\n",
        "\"\"\"\n",
        "sentences = [\n",
        "    'eu não gosto de frango?',\n",
        "    'eu não \"gosto\" de abobrinha.',\n",
        "    'você gosta de laranja!',\n",
        "    'ela gosta de frango!'\n",
        "]\n",
        "\"\"\"\n",
        "\n",
        "tokenizer = Tokenizer(num_words = 100)\n",
        "tokenizer.fit_on_texts(sentences)\n",
        "word_index = tokenizer.word_index\n",
        "print(\"*Tokenization with TensorFlow and Keras:\\n\", word_index)\n",
        "\n",
        "sentence = []\n",
        "word = []\n",
        "print(\"\\n*Corpus of sentences in a list format:\\n\")\n",
        "print(sentences)\n",
        "print()\n",
        "print(\"*Removing punctuations and extraneos characters:\\n\")\n",
        "for s in range(len(sentences)):\n",
        "    sentence.append(sentences[s])\n",
        "    # print(sentence[s])\n",
        "    # Removing punctuation and extraneous characters from a string\n",
        "    # a = \"a!b@c#d$\"\n",
        "    b = \"!@#$?.:,;\\\"\\'/)(}{^\"\n",
        "    for char in b:\n",
        "        sentence[s] = sentence[s].replace(char,\" \")\n",
        "    print(\"Clean sentence: \", sentence[s]+\"\\n\")\n",
        "    # result: \"abcd\"\n",
        "\n",
        "    #for w in range(len(sentence[s].split(\" \"))):\n",
        "    word.append(sentence[s].split(\" \"))\n",
        "    #print(word[s])\n",
        "print(\"*List of sentences:\\n\", sentence, \"\\n\")\n",
        "print(\"*List of words:\\n\", word, \"\\n\")\n",
        "\n",
        "# Flattening a list\n",
        "flattened = [val for sublist in word for val in sublist]\n",
        "#print(flattened)\n",
        "\n",
        "# Removing duplicates from a list\n",
        "lista = list(set(flattened))\n",
        "\n",
        "print(\"*List of words with no duplicates:\\n\", lista, \"\\n\")\n",
        "\n",
        "# Removing the empty string\n",
        "lista.remove('')\n",
        "print(\"*Empty string removed:\\n\", lista,\"\\n\")\n",
        "# Creating a dictionary from a list\n",
        "def listToDict(lista):\n",
        "    op = {lista[i] : i+1 for i in range(0, len(lista) ) }\n",
        "    return op\n",
        "\n",
        "dict_of_words = listToDict(lista)\n",
        "print(\"*Dictionary of words:\\n\", dict_of_words)\n",
        "print()\n",
        "# Using Pandas DataFrame constructor:\n",
        "dict_of_words = listToDict(lista)\n",
        "\n",
        "frame_of_words = pd.DataFrame(dict_of_words.items(), columns=['Word', 'Index'], index=range(1,len(lista)+1))\n",
        "print(\"*DataFrame of words:\\n\", frame_of_words)\n",
        "\n",
        "\n",
        "\"\"\"\n",
        "# A very weak bot\n",
        "import re\n",
        "r = \"(hi|hello|hey|howdy)[ ]* ([a-z]*)\"\n",
        "re.match(r, 'Hello Rosa', flags=re.IGNORECASE)\n",
        "#<_sre.SRE_Match object; span=(0, 10), match='Hello Rosa'>\n",
        "re.match(r, \"hi ho, hi ho, it's off to work ...\", flags=re.IGNORECASE)\n",
        "#<_sre.SRE_Match object; span=(0, 5), match='hi ho'>\n",
        "\n",
        "r = r\"[^a-z]*([y]o|[h']?ello|ok|hey|(good[ ])?(morn[gin']{0,3}|\"\\\n",
        "r\"afternoon|even[gin']{0,3}))[\\s,;:]{1,3}([a-z]{1,20})\"\n",
        "re_greeting = re.compile(r, flags=re.IGNORECASE)\n",
        "re_greeting.match('Hello Rosa')\n",
        "re_greeting.match('Hello Rosa').groups()\n",
        "re_greeting.match(\"Good morning Rosa\")\n",
        "\"\"\"\n",
        "\n",
        "\n",
        "\n",
        "\n",
        "\n",
        "\n",
        "\n",
        "\n",
        "\n"
      ],
      "execution_count": 29,
      "outputs": [
        {
          "output_type": "stream",
          "text": [
            "[nltk_data] Downloading package punkt to /root/nltk_data...\n",
            "[nltk_data]   Package punkt is already up-to-date!\n",
            "*Tokenization with TensorFlow and Keras:\n",
            " {'e': 1, 'dos': 2, 'de': 3, 'se': 4, 'rochas': 5, 'os': 6, 'da': 7, 'ao': 8, 'nas': 9, 'em': 10, 'sem': 11, 'as': 12, 'das': 13, 'o': 14, 'pela': 15, 'escassear': 16, 'nos': 17, 'leitos': 18, 'margens': 19, 'córregos': 20, 'veios': 21, 'tabuleiros': 22, 'meias': 23, 'encostas': 24, 'morros': 25, 'grupiaras': 26, 'sucederam': 27, 'trabalhos': 28, 'ataques': 29, 'direto': 30, 'às': 31, 'matrizes': 32, 'desaparecidos': 33, 'afloramentos': 34, 'superficiais': 35, 'vieiros': 36, 'contidos': 37, 'friáveis': 38, 'semidecompos': 39, 'tas': 40, 'consistência': 41, 'podres': 42, 'seguiram': 43, 'para': 44, 'atingi': 45, 'los': 46, 'profundidade': 47, 'penosos': 48, 'serviços': 49, 'subterrâneos': 50, 'cada': 51, 'vez': 52, 'mais': 53, 'profundos': 54, 'escavações': 55, 'galerias': 56, 'precárias': 57, 'condições': 58, 'foi': 59, 'quando': 60, 'extremamente': 61, 'compactas': 62, 'quartzos': 63, 'pirites': 64, 'itabiritos': 65, 'outras': 66, 'antepuseram': 67, 'como': 68, 'invencível': 69, 'obstáculo': 70, 'avanço': 71, 'técnicas': 72, 'rudimentares': 73, 'processos': 74, 'rotineiros': 75, 'inexperientes': 76, 'incapacitados': 77, 'mineradores': 78, 'colônia': 79, 'desprovidos': 80, 'recursos': 81, 'somente': 82, 'aluviões': 83, 'puderam': 84, 'ser': 85, 'por': 86, 'eles': 87, 'economicamente': 88, 'aproveitadas': 89, 'era': 90, 'onde': 91, 'ouro': 92, 'já': 93, 'encontrava': 94, 'liberado': 95, 'a': 96, 'prévia': 97, 'necessária': 98, 'desintegração': 99, 'exigindo': 100, 'apenas': 101, 'separação': 102, 'outros': 103, 'minerais': 104, 'ação': 105, 'gravidade': 106, 'ou': 107, 'melhor': 108, 'concentração': 109, 'sob': 110, 'fluxo': 111, 'água': 112}\n",
            "\n",
            "*Corpus of sentences in a list format:\n",
            "\n",
            "['ao escassear nos leitos e nas margens dos córregos {veios e tabuleiros) e nas meias encostas dos morros (grupiaras)^ sucederam-se os trabalhos de ataques direto às rochas matrizes.', 'desaparecidos os afloramentos superficiais dos vieiros contidos em rochas friáveis semidecompos- tas e sem consistência {podres)^ seguiram-se, para atingi-los em profundidade, os penosos serviços subterrâneos, cada vez mais profundos, de escavações e galerias de precárias condições.', 'foi quando as rochas extremamente compactas - quartzos, pirites, itabiritos e outras - se antepuseram, como invencível obstáculo, ao avanço das técnicas rudimentares e dos processos rotineiros dos inexperientes e incapacitados mineradores da colônia desprovidos de recursos.', 'somente as aluviões puderam ser por eles economicamente aproveitadas.', 'era onde o ouro já se encontrava liberado sem a prévia e necessária desintegração das rochas, exigindo, apenas, separação de outros minerais pela ação da gravidade ou, melhor, pela concentração sob o fluxo da água.']\n",
            "\n",
            "*Removing punctuations and extraneos characters:\n",
            "\n",
            "Clean sentence:  ao escassear nos leitos e nas margens dos córregos  veios e tabuleiros  e nas meias encostas dos morros  grupiaras   sucederam-se os trabalhos de ataques direto às rochas matrizes \n",
            "\n",
            "Clean sentence:  desaparecidos os afloramentos superficiais dos vieiros contidos em rochas friáveis semidecompos- tas e sem consistência  podres   seguiram-se  para atingi-los em profundidade  os penosos serviços subterrâneos  cada vez mais profundos  de escavações e galerias de precárias condições \n",
            "\n",
            "Clean sentence:  foi quando as rochas extremamente compactas - quartzos  pirites  itabiritos e outras - se antepuseram  como invencível obstáculo  ao avanço das técnicas rudimentares e dos processos rotineiros dos inexperientes e incapacitados mineradores da colônia desprovidos de recursos \n",
            "\n",
            "Clean sentence:  somente as aluviões puderam ser por eles economicamente aproveitadas \n",
            "\n",
            "Clean sentence:  era onde o ouro já se encontrava liberado sem a prévia e necessária desintegração das rochas  exigindo  apenas  separação de outros minerais pela ação da gravidade ou  melhor  pela concentração sob o fluxo da água \n",
            "\n",
            "*List of sentences:\n",
            " ['ao escassear nos leitos e nas margens dos córregos  veios e tabuleiros  e nas meias encostas dos morros  grupiaras   sucederam-se os trabalhos de ataques direto às rochas matrizes ', 'desaparecidos os afloramentos superficiais dos vieiros contidos em rochas friáveis semidecompos- tas e sem consistência  podres   seguiram-se  para atingi-los em profundidade  os penosos serviços subterrâneos  cada vez mais profundos  de escavações e galerias de precárias condições ', 'foi quando as rochas extremamente compactas - quartzos  pirites  itabiritos e outras - se antepuseram  como invencível obstáculo  ao avanço das técnicas rudimentares e dos processos rotineiros dos inexperientes e incapacitados mineradores da colônia desprovidos de recursos ', 'somente as aluviões puderam ser por eles economicamente aproveitadas ', 'era onde o ouro já se encontrava liberado sem a prévia e necessária desintegração das rochas  exigindo  apenas  separação de outros minerais pela ação da gravidade ou  melhor  pela concentração sob o fluxo da água '] \n",
            "\n",
            "*List of words:\n",
            " [['ao', 'escassear', 'nos', 'leitos', 'e', 'nas', 'margens', 'dos', 'córregos', '', 'veios', 'e', 'tabuleiros', '', 'e', 'nas', 'meias', 'encostas', 'dos', 'morros', '', 'grupiaras', '', '', 'sucederam-se', 'os', 'trabalhos', 'de', 'ataques', 'direto', 'às', 'rochas', 'matrizes', ''], ['desaparecidos', 'os', 'afloramentos', 'superficiais', 'dos', 'vieiros', 'contidos', 'em', 'rochas', 'friáveis', 'semidecompos-', 'tas', 'e', 'sem', 'consistência', '', 'podres', '', '', 'seguiram-se', '', 'para', 'atingi-los', 'em', 'profundidade', '', 'os', 'penosos', 'serviços', 'subterrâneos', '', 'cada', 'vez', 'mais', 'profundos', '', 'de', 'escavações', 'e', 'galerias', 'de', 'precárias', 'condições', ''], ['foi', 'quando', 'as', 'rochas', 'extremamente', 'compactas', '-', 'quartzos', '', 'pirites', '', 'itabiritos', 'e', 'outras', '-', 'se', 'antepuseram', '', 'como', 'invencível', 'obstáculo', '', 'ao', 'avanço', 'das', 'técnicas', 'rudimentares', 'e', 'dos', 'processos', 'rotineiros', 'dos', 'inexperientes', 'e', 'incapacitados', 'mineradores', 'da', 'colônia', 'desprovidos', 'de', 'recursos', ''], ['somente', 'as', 'aluviões', 'puderam', 'ser', 'por', 'eles', 'economicamente', 'aproveitadas', ''], ['era', 'onde', 'o', 'ouro', 'já', 'se', 'encontrava', 'liberado', 'sem', 'a', 'prévia', 'e', 'necessária', 'desintegração', 'das', 'rochas', '', 'exigindo', '', 'apenas', '', 'separação', 'de', 'outros', 'minerais', 'pela', 'ação', 'da', 'gravidade', 'ou', '', 'melhor', '', 'pela', 'concentração', 'sob', 'o', 'fluxo', 'da', 'água', '']] \n",
            "\n",
            "*List of words with no duplicates:\n",
            " ['', 'trabalhos', 'profundos', 'quando', 'se', 'nos', 'compactas', 'nas', 'itabiritos', 'era', 'necessária', 'e', 'meias', 'fluxo', 'de', 'eles', 'minerais', 'encostas', 'exigindo', 'separação', 'sob', 'atingi-los', 'economicamente', 'podres', 'sucederam-se', 'ataques', 'rochas', 'das', 'inexperientes', 'foi', 'apenas', 'vez', 'ou', 'superficiais', 'aproveitadas', 'invencível', 'técnicas', 'córregos', 'processos', 'pela', 'da', 'recursos', 'quartzos', 'ouro', 'encontrava', 'friáveis', 'em', 'ação', 'penosos', 'veios', 'aluviões', 'desaparecidos', 'mineradores', 'avanço', 'água', 'sem', 'condições', 'galerias', 'a', 'escassear', 'incapacitados', 'cada', 'desintegração', 'antepuseram', 'obstáculo', 'subterrâneos', 'onde', 'rudimentares', 'grupiaras', 'colônia', 'consistência', 'desprovidos', 'puderam', 'concentração', 'prévia', 'às', 'tas', 'como', 'matrizes', 'pirites', 'dos', 'vieiros', 'os', 'mais', 'ao', 'as', 'liberado', 'profundidade', 'contidos', 'melhor', '-', 'ser', 'margens', 'direto', 'para', 'escavações', 'afloramentos', 'somente', 'seguiram-se', 'gravidade', 'tabuleiros', 'extremamente', 'leitos', 'outros', 'morros', 'semidecompos-', 'precárias', 'por', 'o', 'serviços', 'rotineiros', 'já', 'outras'] \n",
            "\n",
            "*Empty string removed:\n",
            " ['trabalhos', 'profundos', 'quando', 'se', 'nos', 'compactas', 'nas', 'itabiritos', 'era', 'necessária', 'e', 'meias', 'fluxo', 'de', 'eles', 'minerais', 'encostas', 'exigindo', 'separação', 'sob', 'atingi-los', 'economicamente', 'podres', 'sucederam-se', 'ataques', 'rochas', 'das', 'inexperientes', 'foi', 'apenas', 'vez', 'ou', 'superficiais', 'aproveitadas', 'invencível', 'técnicas', 'córregos', 'processos', 'pela', 'da', 'recursos', 'quartzos', 'ouro', 'encontrava', 'friáveis', 'em', 'ação', 'penosos', 'veios', 'aluviões', 'desaparecidos', 'mineradores', 'avanço', 'água', 'sem', 'condições', 'galerias', 'a', 'escassear', 'incapacitados', 'cada', 'desintegração', 'antepuseram', 'obstáculo', 'subterrâneos', 'onde', 'rudimentares', 'grupiaras', 'colônia', 'consistência', 'desprovidos', 'puderam', 'concentração', 'prévia', 'às', 'tas', 'como', 'matrizes', 'pirites', 'dos', 'vieiros', 'os', 'mais', 'ao', 'as', 'liberado', 'profundidade', 'contidos', 'melhor', '-', 'ser', 'margens', 'direto', 'para', 'escavações', 'afloramentos', 'somente', 'seguiram-se', 'gravidade', 'tabuleiros', 'extremamente', 'leitos', 'outros', 'morros', 'semidecompos-', 'precárias', 'por', 'o', 'serviços', 'rotineiros', 'já', 'outras'] \n",
            "\n",
            "*Dictionary of words:\n",
            " {'trabalhos': 1, 'profundos': 2, 'quando': 3, 'se': 4, 'nos': 5, 'compactas': 6, 'nas': 7, 'itabiritos': 8, 'era': 9, 'necessária': 10, 'e': 11, 'meias': 12, 'fluxo': 13, 'de': 14, 'eles': 15, 'minerais': 16, 'encostas': 17, 'exigindo': 18, 'separação': 19, 'sob': 20, 'atingi-los': 21, 'economicamente': 22, 'podres': 23, 'sucederam-se': 24, 'ataques': 25, 'rochas': 26, 'das': 27, 'inexperientes': 28, 'foi': 29, 'apenas': 30, 'vez': 31, 'ou': 32, 'superficiais': 33, 'aproveitadas': 34, 'invencível': 35, 'técnicas': 36, 'córregos': 37, 'processos': 38, 'pela': 39, 'da': 40, 'recursos': 41, 'quartzos': 42, 'ouro': 43, 'encontrava': 44, 'friáveis': 45, 'em': 46, 'ação': 47, 'penosos': 48, 'veios': 49, 'aluviões': 50, 'desaparecidos': 51, 'mineradores': 52, 'avanço': 53, 'água': 54, 'sem': 55, 'condições': 56, 'galerias': 57, 'a': 58, 'escassear': 59, 'incapacitados': 60, 'cada': 61, 'desintegração': 62, 'antepuseram': 63, 'obstáculo': 64, 'subterrâneos': 65, 'onde': 66, 'rudimentares': 67, 'grupiaras': 68, 'colônia': 69, 'consistência': 70, 'desprovidos': 71, 'puderam': 72, 'concentração': 73, 'prévia': 74, 'às': 75, 'tas': 76, 'como': 77, 'matrizes': 78, 'pirites': 79, 'dos': 80, 'vieiros': 81, 'os': 82, 'mais': 83, 'ao': 84, 'as': 85, 'liberado': 86, 'profundidade': 87, 'contidos': 88, 'melhor': 89, '-': 90, 'ser': 91, 'margens': 92, 'direto': 93, 'para': 94, 'escavações': 95, 'afloramentos': 96, 'somente': 97, 'seguiram-se': 98, 'gravidade': 99, 'tabuleiros': 100, 'extremamente': 101, 'leitos': 102, 'outros': 103, 'morros': 104, 'semidecompos-': 105, 'precárias': 106, 'por': 107, 'o': 108, 'serviços': 109, 'rotineiros': 110, 'já': 111, 'outras': 112}\n",
            "\n",
            "*DataFrame of words:\n",
            "            Word  Index\n",
            "1     trabalhos      1\n",
            "2     profundos      2\n",
            "3        quando      3\n",
            "4            se      4\n",
            "5           nos      5\n",
            "..          ...    ...\n",
            "108           o    108\n",
            "109    serviços    109\n",
            "110  rotineiros    110\n",
            "111          já    111\n",
            "112      outras    112\n",
            "\n",
            "[112 rows x 2 columns]\n"
          ],
          "name": "stdout"
        },
        {
          "output_type": "execute_result",
          "data": {
            "text/plain": [
              "'\\n# A very weak bot\\nimport re\\nr = \"(hi|hello|hey|howdy)[ ]* ([a-z]*)\"\\nre.match(r, \\'Hello Rosa\\', flags=re.IGNORECASE)\\n#<_sre.SRE_Match object; span=(0, 10), match=\\'Hello Rosa\\'>\\nre.match(r, \"hi ho, hi ho, it\\'s off to work ...\", flags=re.IGNORECASE)\\n#<_sre.SRE_Match object; span=(0, 5), match=\\'hi ho\\'>\\n\\nr = r\"[^a-z]*([y]o|[h\\']?ello|ok|hey|(good[ ])?(morn[gin\\']{0,3}|\"r\"afternoon|even[gin\\']{0,3}))[\\\\s,;:]{1,3}([a-z]{1,20})\"\\nre_greeting = re.compile(r, flags=re.IGNORECASE)\\nre_greeting.match(\\'Hello Rosa\\')\\nre_greeting.match(\\'Hello Rosa\\').groups()\\nre_greeting.match(\"Good morning Rosa\")\\n'"
            ]
          },
          "metadata": {
            "tags": []
          },
          "execution_count": 29
        }
      ]
    },
    {
      "cell_type": "code",
      "metadata": {
        "id": "wE5BGgnj4EU5",
        "colab_type": "code",
        "colab": {}
      },
      "source": [
        "TV"
      ],
      "execution_count": 0,
      "outputs": []
    }
  ]
}